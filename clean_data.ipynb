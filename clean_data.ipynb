{
 "cells": [
  {
   "cell_type": "code",
   "execution_count": 4,
   "id": "6732338c-3c6c-4679-b599-b148428f923d",
   "metadata": {},
   "outputs": [],
   "source": [
    "# Importing all neccessary packages\n",
    "import os\n",
    "import numpy as np\n",
    "import pandas as pd\n",
    "import librosa\n",
    "import librosa.display\n",
    "import matplotlib.pyplot as plt\n",
    "import IPython.display as ipd\n",
    "from glob import glob\n",
    "import cv2\n",
    "import shutil"
   ]
  },
  {
   "cell_type": "code",
   "execution_count": 3,
   "id": "f80d294d-733b-4e3c-b370-067c4c501899",
   "metadata": {},
   "outputs": [],
   "source": [
    "def add_files(source_data_file, destination_data_file, source_dir, destination_dir, required_file_number, choice_rate = 1):\n",
    "    if not os.path.exists(destination_dir):\n",
    "        os.makedirs(destination_dir)\n",
    "    elif len(os.listdir(destination_dir)) >= required_file_number:\n",
    "        return\n",
    "        \n",
    "    reject_rate = 1-choice_rate\n",
    "    \n",
    "    superset = pd.read_csv(source_data_file)\n",
    "    rows_to_append = []\n",
    "    \n",
    "    for i, row in superset.iterrows():\n",
    "       if(np.random.rand(1) >= reject_rate):\n",
    "           source_file = os.path.join(source_dir, row['FileName'])\n",
    "           destination_file = os.path.join(destination_dir, row['FileName'])\n",
    "           if os.path.exists(source_file):\n",
    "               rows_to_append.append(row)\n",
    "               shutil.move(source_file, destination_file)\n",
    "           else:\n",
    "               if(row['Class'] == 'Sound_Violin'):\n",
    "                   print('Could not find:', source_file) \n",
    "            \n",
    "\n",
    "    if not os.path.exists(destination_data_file):\n",
    "        temp = pd.DataFrame(columns = ['FileName', 'Class'])\n",
    "        temp.to_csv(destination_data_file, index = False)\n",
    "    subset = pd.read_csv(destination_data_file)\n",
    "    subset = pd.concat([subset, pd.DataFrame(rows_to_append)], ignore_index = True)\n",
    "    subset.to_csv(destination_data_file, index = False)"
   ]
  },
  {
   "cell_type": "code",
   "execution_count": 9,
   "id": "b1b4a478-e9d8-41e4-9ca0-bfa7ec573b62",
   "metadata": {},
   "outputs": [],
   "source": [
    "# preparing training data\n",
    "required_file_number = 3000\n",
    "\n",
    "tr_source_dir = 'Train_audio_orig'\n",
    "tr_destination_dir = 'Train_audios'\n",
    "tr_source_data_file = 'Metadata_Train.csv'\n",
    "tr_destination_data_file = 'Train_Data.csv'\n",
    "\n",
    "add_files(tr_source_data_file, tr_destination_data_file, tr_source_dir, tr_destination_dir, required_file_number, 1)"
   ]
  },
  {
   "cell_type": "code",
   "execution_count": 11,
   "id": "31c66979-c936-4740-95df-178b8eec0e10",
   "metadata": {},
   "outputs": [],
   "source": [
    "# preparing training data\n",
    "required_file_number = 1000\n",
    "\n",
    "te_source_dir = 'Test_audio_orig'\n",
    "te_destination_dir = 'Test_audios'\n",
    "te_source_data_file = 'Metadata_Test.csv'\n",
    "te_destination_data_file = 'Test_Data.csv'\n",
    "\n",
    "add_files(te_source_data_file, te_destination_data_file, te_source_dir, te_destination_dir, required_file_number, 1)"
   ]
  },
  {
   "cell_type": "code",
   "execution_count": 12,
   "id": "a7d213a8-3339-452f-86b9-ee267d74623c",
   "metadata": {},
   "outputs": [
    {
     "name": "stdout",
     "output_type": "stream",
     "text": [
      "Number of train files: 2628\n",
      "Number of test files: 80\n"
     ]
    }
   ],
   "source": [
    "print(f\"Number of train files: {len(os.listdir(tr_destination_dir))}\")\n",
    "print(f\"Number of test files: {len(os.listdir(te_destination_dir))}\")"
   ]
  },
  {
   "cell_type": "code",
   "execution_count": 13,
   "id": "7fd05346-a33a-4067-b0b2-4d3397900bed",
   "metadata": {},
   "outputs": [],
   "source": [
    "def class_count(data_path, dir_path):\n",
    "    df = pd.read_csv(data_path)\n",
    "    f = 0\n",
    "    class_count = {'Sound_Guitar': 0, 'Sound_Piano': 0, 'Sound_Drum': 0, 'Sound_Violin': 0}\n",
    "    for i, row in df.iterrows():\n",
    "        class_count[row['Class']]+=1\n",
    "        \n",
    "        if not os.path.exists(os.path.join(dir_path,row['FileName'])):\n",
    "            print(row['FileName'])\n",
    "            f = 1\n",
    "    \n",
    "    if f==0:\n",
    "        print(\"No missing files\")\n",
    "    for key in class_count.keys():\n",
    "        print(key, ':', class_count[key])"
   ]
  },
  {
   "cell_type": "code",
   "execution_count": 14,
   "id": "f1043007-e8c8-4184-9851-2beb253b4948",
   "metadata": {},
   "outputs": [
    {
     "name": "stdout",
     "output_type": "stream",
     "text": [
      "Train:\n",
      "No missing files\n",
      "Sound_Guitar : 700\n",
      "Sound_Piano : 528\n",
      "Sound_Drum : 700\n",
      "Sound_Violin : 700\n"
     ]
    }
   ],
   "source": [
    "print('Train:')\n",
    "class_count(tr_destination_data_file, tr_destination_dir)"
   ]
  },
  {
   "cell_type": "code",
   "execution_count": 15,
   "id": "92ecbf7b-0ddb-4fe7-aea6-6b8c0f552950",
   "metadata": {},
   "outputs": [
    {
     "name": "stdout",
     "output_type": "stream",
     "text": [
      "Test:\n",
      "No missing files\n",
      "Sound_Guitar : 20\n",
      "Sound_Piano : 20\n",
      "Sound_Drum : 20\n",
      "Sound_Violin : 20\n"
     ]
    }
   ],
   "source": [
    "print('Test:')\n",
    "class_count(te_destination_data_file, te_destination_dir)"
   ]
  },
  {
   "cell_type": "markdown",
   "id": "0234cdf2-b226-4877-9e0b-d45e39282027",
   "metadata": {},
   "source": [
    "Upon inspection, it is observed that the original CSV file 'Metadata_Train.csv' containing file labels for test data is faulty. It does not contain the names of audio files with sound of a violin, but instead have the same names as the drum audio files with the label 'Sound_Violin'. To fix this, we can transfer the remaining audio files in our original audio directory to our new directory while simultaneously adding rows to our new CSV file of the format ['Audio_File_Name', 'Sound_Violin']. This should fix our issue."
   ]
  },
  {
   "cell_type": "code",
   "execution_count": 3,
   "id": "56a6879b-d27e-438f-bcdc-4066c5f306ad",
   "metadata": {},
   "outputs": [],
   "source": [
    "rows_to_append = []\n",
    "\n",
    "for file in os.listdir('Train_audio_orig'):\n",
    "    file_path = os.path.join('Train_audio_orig', file)\n",
    "    dest_path = os.path.join('Train_audios', file)\n",
    "    \n",
    "    rows_to_append.append([file, 'Sound_Violin'])\n",
    "    \n",
    "    shutil.move(file_path, dest_path)\n",
    "\n",
    "df = pd.read_csv('Train_Data.csv')\n",
    "df = pd.concat([df, pd.DataFrame(rows_to_append)], ignore_index = True)\n",
    "df.to_csv('Train_Data.csv', index=False)"
   ]
  }
 ],
 "metadata": {
  "kernelspec": {
   "display_name": "Python 3 (ipykernel)",
   "language": "python",
   "name": "python3"
  },
  "language_info": {
   "codemirror_mode": {
    "name": "ipython",
    "version": 3
   },
   "file_extension": ".py",
   "mimetype": "text/x-python",
   "name": "python",
   "nbconvert_exporter": "python",
   "pygments_lexer": "ipython3",
   "version": "3.12.4"
  }
 },
 "nbformat": 4,
 "nbformat_minor": 5
}
